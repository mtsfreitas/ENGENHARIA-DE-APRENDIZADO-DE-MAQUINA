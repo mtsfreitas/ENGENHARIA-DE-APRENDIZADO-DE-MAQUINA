{
 "cells": [
  {
   "cell_type": "code",
   "execution_count": 1,
   "metadata": {
    "colab": {
     "base_uri": "https://localhost:8080/"
    },
    "id": "Hy6TPuQsqL7N",
    "outputId": "084fd194-945b-4bed-f183-728bee0eacf3"
   },
   "outputs": [
    {
     "name": "stdout",
     "output_type": "stream",
     "text": [
      "Requirement already satisfied: pandas in d:\\users\\martins\\anaconda3\\lib\\site-packages (1.5.3)\n",
      "Collecting xlrd\n",
      "  Downloading xlrd-2.0.1-py2.py3-none-any.whl (96 kB)\n",
      "     ---------------------------------------- 96.5/96.5 kB 1.4 MB/s eta 0:00:00\n",
      "Collecting pyarrow\n",
      "  Downloading pyarrow-11.0.0-cp310-cp310-win_amd64.whl (20.6 MB)\n",
      "     ---------------------------------------- 20.6/20.6 MB 2.4 MB/s eta 0:00:00\n",
      "Collecting mysql-connector-python\n",
      "  Downloading mysql_connector_python-8.0.32-cp310-cp310-win_amd64.whl (7.9 MB)\n",
      "     ---------------------------------------- 7.9/7.9 MB 3.2 MB/s eta 0:00:00\n",
      "Requirement already satisfied: requests in d:\\users\\martins\\anaconda3\\lib\\site-packages (2.28.1)\n",
      "Requirement already satisfied: python-dateutil>=2.8.1 in d:\\users\\martins\\anaconda3\\lib\\site-packages (from pandas) (2.8.2)\n",
      "Requirement already satisfied: pytz>=2020.1 in d:\\users\\martins\\anaconda3\\lib\\site-packages (from pandas) (2022.7)\n",
      "Requirement already satisfied: numpy>=1.21.0 in d:\\users\\martins\\anaconda3\\lib\\site-packages (from pandas) (1.23.5)\n",
      "Collecting protobuf<=3.20.3,>=3.11.0\n",
      "  Downloading protobuf-3.20.3-cp310-cp310-win_amd64.whl (904 kB)\n",
      "     -------------------------------------- 904.0/904.0 kB 1.5 MB/s eta 0:00:00\n",
      "Requirement already satisfied: charset-normalizer<3,>=2 in d:\\users\\martins\\anaconda3\\lib\\site-packages (from requests) (2.0.4)\n",
      "Requirement already satisfied: urllib3<1.27,>=1.21.1 in d:\\users\\martins\\anaconda3\\lib\\site-packages (from requests) (1.26.14)\n",
      "Requirement already satisfied: certifi>=2017.4.17 in d:\\users\\martins\\anaconda3\\lib\\site-packages (from requests) (2022.12.7)\n",
      "Requirement already satisfied: idna<4,>=2.5 in d:\\users\\martins\\anaconda3\\lib\\site-packages (from requests) (3.4)\n",
      "Requirement already satisfied: six>=1.5 in d:\\users\\martins\\anaconda3\\lib\\site-packages (from python-dateutil>=2.8.1->pandas) (1.16.0)\n",
      "Installing collected packages: xlrd, pyarrow, protobuf, mysql-connector-python\n",
      "Successfully installed mysql-connector-python-8.0.32 protobuf-3.20.3 pyarrow-11.0.0 xlrd-2.0.1\n"
     ]
    }
   ],
   "source": [
    "!pip install pandas xlrd pyarrow mysql-connector-python requests\n",
    "#!pip install openpyxl (XLSX)\n",
    "\n",
    "import mysql.connector\n",
    "import pandas as pd\n",
    "import requests"
   ]
  },
  {
   "cell_type": "code",
   "execution_count": 2,
   "metadata": {
    "colab": {
     "base_uri": "https://localhost:8080/"
    },
    "id": "bkGWE1qnqqGZ",
    "outputId": "83246fb8-ce82-4cbf-83aa-13364b7650e2"
   },
   "outputs": [
    {
     "name": "stdout",
     "output_type": "stream",
     "text": [
      "   PassengerId  Survived  Pclass  \\\n",
      "0            1         0       3   \n",
      "1            2         1       1   \n",
      "2            3         1       3   \n",
      "3            4         1       1   \n",
      "4            5         0       3   \n",
      "\n",
      "                                                Name     Sex   Age  SibSp  \\\n",
      "0                            Braund, Mr. Owen Harris    male  22.0      1   \n",
      "1  Cumings, Mrs. John Bradley (Florence Briggs Th...  female  38.0      1   \n",
      "2                             Heikkinen, Miss. Laina  female  26.0      0   \n",
      "3       Futrelle, Mrs. Jacques Heath (Lily May Peel)  female  35.0      1   \n",
      "4                           Allen, Mr. William Henry    male  35.0      0   \n",
      "\n",
      "   Parch            Ticket     Fare Cabin Embarked  \n",
      "0      0         A/5 21171   7.2500   NaN        S  \n",
      "1      0          PC 17599  71.2833   C85        C  \n",
      "2      0  STON/O2. 3101282   7.9250   NaN        S  \n",
      "3      0            113803  53.1000  C123        S  \n",
      "4      0            373450   8.0500   NaN        S  \n"
     ]
    }
   ],
   "source": [
    "titanic_df = pd.read_csv('titanic_train.csv')\n",
    "print(titanic_df.head())\n"
   ]
  },
  {
   "cell_type": "code",
   "execution_count": 3,
   "metadata": {
    "colab": {
     "base_uri": "https://localhost:8080/"
    },
    "id": "nkwjy2iHqqJG",
    "outputId": "528210e0-ca16-49a6-bfad-39128a66765c"
   },
   "outputs": [
    {
     "name": "stdout",
     "output_type": "stream",
     "text": [
      "   sepalLength  sepalWidth  petalLength  petalWidth species\n",
      "0          5.1         3.5          1.4         0.2  setosa\n",
      "1          4.9         3.0          1.4         0.2  setosa\n",
      "2          4.7         3.2          1.3         0.2  setosa\n",
      "3          4.6         3.1          1.5         0.2  setosa\n",
      "4          5.0         3.6          1.4         0.2  setosa\n"
     ]
    }
   ],
   "source": [
    "with open('iris.json', 'r') as f:\n",
    "    iris_data = pd.read_json(f)\n",
    "print(iris_data.head())\n"
   ]
  },
  {
   "cell_type": "code",
   "execution_count": 4,
   "metadata": {
    "colab": {
     "base_uri": "https://localhost:8080/"
    },
    "id": "rho4o2v3qqLu",
    "outputId": "f291e1f6-d311-4670-aac2-6e828e76ff05"
   },
   "outputs": [
    {
     "name": "stdout",
     "output_type": "stream",
     "text": [
      "         type version                                               data\n",
      "1    champion  7.17.2  {'title': 'the Dark Child', 'id': 1, 'key': 'A...\n",
      "10   champion  7.17.2  {'title': 'The Judicator', 'id': 10, 'key': 'K...\n",
      "101  champion  7.17.2  {'title': 'the Magus Ascendant', 'id': 101, 'k...\n",
      "102  champion  7.17.2  {'title': 'the Half-Dragon', 'id': 102, 'key':...\n",
      "103  champion  7.17.2  {'title': 'the Nine-Tailed Fox', 'id': 103, 'k...\n"
     ]
    }
   ],
   "source": [
    "with open('champion_info.json', 'r') as f:\n",
    "    champion_data = pd.read_json(f)\n",
    "print(champion_data.head())\n"
   ]
  },
  {
   "cell_type": "code",
   "execution_count": 7,
   "metadata": {
    "colab": {
     "base_uri": "https://localhost:8080/"
    },
    "id": "78OxYmjOqqOm",
    "outputId": "f6f03d56-1371-4b8a-b14a-3d8eddce91ab"
   },
   "outputs": [
    {
     "name": "stdout",
     "output_type": "stream",
     "text": [
      "    Ano  Código da Grande Região Nome da Grande Região  \\\n",
      "0  2010                        1                 Norte   \n",
      "1  2010                        1                 Norte   \n",
      "2  2010                        1                 Norte   \n",
      "3  2010                        1                 Norte   \n",
      "4  2010                        1                 Norte   \n",
      "\n",
      "   Código da Unidade da Federação Sigla da Unidade da Federação  \\\n",
      "0                              11                            RO   \n",
      "1                              11                            RO   \n",
      "2                              11                            RO   \n",
      "3                              11                            RO   \n",
      "4                              11                            RO   \n",
      "\n",
      "  Nome da Unidade da Federação  Código do Município      Nome do Município  \\\n",
      "0                     Rondônia              1100015  Alta Floresta D'Oeste   \n",
      "1                     Rondônia              1100023              Ariquemes   \n",
      "2                     Rondônia              1100031                 Cabixi   \n",
      "3                     Rondônia              1100049                 Cacoal   \n",
      "4                     Rondônia              1100056             Cerejeiras   \n",
      "\n",
      "  Região Metropolitana  Código da Mesorregião  ...  \\\n",
      "0                  NaN                   1102  ...   \n",
      "1                  NaN                   1102  ...   \n",
      "2                  NaN                   1102  ...   \n",
      "3                  NaN                   1102  ...   \n",
      "4                  NaN                   1102  ...   \n",
      "\n",
      "  Valor adicionado bruto dos Serviços, a preços correntes - exclusive Administração, defesa, educação e saúde públicas e seguridade social\\n(R$ 1.000)  \\\n",
      "0                                          62496.185                                                                                                     \n",
      "1                                         494946.267                                                                                                     \n",
      "2                                          12677.210                                                                                                     \n",
      "3                                         465447.325                                                                                                     \n",
      "4                                          80724.991                                                                                                     \n",
      "\n",
      "   Valor adicionado bruto da Administração, defesa, educação e saúde públicas e seguridade social\\n(R$ 1.000)  \\\n",
      "0                                          93244.656                                                            \n",
      "1                                         343867.731                                                            \n",
      "2                                          25170.235                                                            \n",
      "3                                         298454.309                                                            \n",
      "4                                          63018.270                                                            \n",
      "\n",
      "  Valor adicionado bruto total, a preços correntes\\n(R$ 1.000)  \\\n",
      "0                                         241119.767             \n",
      "1                                        1199664.227             \n",
      "2                                          65400.772             \n",
      "3                                        1041212.374             \n",
      "4                                         192454.160             \n",
      "\n",
      "   Impostos, líquidos de subsídios, sobre produtos, a preços correntes\\n(R$ 1.000)  \\\n",
      "0                                          20957.111                                 \n",
      "1                                         165029.553                                 \n",
      "2                                           4210.342                                 \n",
      "3                                         145281.717                                 \n",
      "4                                          29567.029                                 \n",
      "\n",
      "  Produto Interno Bruto, a preços correntes\\n(R$ 1.000)  \\\n",
      "0                                         262076.878      \n",
      "1                                        1364693.780      \n",
      "2                                          69611.114      \n",
      "3                                        1186494.091      \n",
      "4                                         222021.189      \n",
      "\n",
      "  População\\n(Nº de habitantes)  Produto Interno Bruto per capita\\n(R$ 1,00)  \\\n",
      "0                         24422                                     10731.18   \n",
      "1                         90354                                     15103.86   \n",
      "2                          6309                                     11033.62   \n",
      "3                         78601                                     15095.15   \n",
      "4                         17030                                     13037.06   \n",
      "\n",
      "          Atividade com maior valor adicionado bruto  \\\n",
      "0  Administração, defesa, educação e saúde públic...   \n",
      "1  Administração, defesa, educação e saúde públic...   \n",
      "2  Administração, defesa, educação e saúde públic...   \n",
      "3  Administração, defesa, educação e saúde públic...   \n",
      "4  Administração, defesa, educação e saúde públic...   \n",
      "\n",
      "  Atividade com segundo maior valor adicionado bruto  \\\n",
      "0               Pecuária, inclusive apoio à pecuária   \n",
      "1                                    Demais serviços   \n",
      "2               Pecuária, inclusive apoio à pecuária   \n",
      "3                                    Demais serviços   \n",
      "4                                    Demais serviços   \n",
      "\n",
      "   Atividade com terceiro maior valor adicionado bruto  \n",
      "0                                    Demais serviços    \n",
      "1  Comércio e reparação de veículos automotores e...    \n",
      "2                                    Demais serviços    \n",
      "3  Comércio e reparação de veículos automotores e...    \n",
      "4  Comércio e reparação de veículos automotores e...    \n",
      "\n",
      "[5 rows x 45 columns]\n"
     ]
    }
   ],
   "source": [
    "pib_df = pd.read_excel('PIB_municipios.xls', engine='xlrd')\n",
    "print(pib_df.head())"
   ]
  },
  {
   "cell_type": "code",
   "execution_count": 8,
   "metadata": {
    "colab": {
     "base_uri": "https://localhost:8080/"
    },
    "id": "aBfDcQ2JqqQ4",
    "outputId": "1cd0c5af-8626-4dd5-8ea5-ce0f6c86a1da"
   },
   "outputs": [
    {
     "name": "stdout",
     "output_type": "stream",
     "text": [
      "  installation_number external_identifier               handset       os  \\\n",
      "0             7206043                          samsung:SM-J700M  ANDROID   \n",
      "1             6219664           367738313  LENOVO:Lenovo K33b36     None   \n",
      "2             6485586                          samsung:SM-G928G     None   \n",
      "3             7050958           108659666      samsung:SM-G930F     None   \n",
      "4             7131516           108027625       asus:ASUS_X013D     None   \n",
      "\n",
      "  os_version         host_app_package host_app_version lib_version  \\\n",
      "0      6.0.1  com.fiat.uconnectmobile            5.4.3      2.2.18   \n",
      "1      6.0.1     com.pontomobi.smiles             None    2.2.17.2   \n",
      "2        7.0     com.pontomobi.smiles             None    2.2.17.2   \n",
      "3        7.0     com.pontomobi.smiles             None      2.2.17   \n",
      "4      5.1.1     com.pontomobi.smiles             None    2.2.17.2   \n",
      "\n",
      "  config_version                        advertising_id  ...  \\\n",
      "0   [new]fca_1.1  35487d8e-0b56-4d51-9b9e-e22179e188d0  ...   \n",
      "1           None                                  None  ...   \n",
      "2           None                                  None  ...   \n",
      "3           None                                  None  ...   \n",
      "4           None                                  None  ...   \n",
      "\n",
      "                 iccid                   ssid  type  bssid  \\\n",
      "0  8952050001802717893                            0   None   \n",
      "1                 None              \"HomeNet\"     0   None   \n",
      "2                 None  \"Costura_Casa da Lua\"     0   None   \n",
      "3                 None                  \"716\"     0   None   \n",
      "4                 None         <unknown ssid>     0   None   \n",
      "\n",
      "                                                  ip        mac_address  \\\n",
      "0  IPv4: 102.22.219.13 | IPv6: FE80::D4AE:5FF:FEB...  D4:AE:05:B3:4C:2F   \n",
      "1                                               None               None   \n",
      "2                                               None               None   \n",
      "3                                               None               None   \n",
      "4                                               None               None   \n",
      "\n",
      "                                         fingerprint is_rooted  \\\n",
      "0  samsung/j7elteub/j7elte:6.0.1/MMB29K/J700MUBU2...       NaN   \n",
      "1                                               None       NaN   \n",
      "2                                               None       NaN   \n",
      "3                                               None       NaN   \n",
      "4                                               None       NaN   \n",
      "\n",
      "  is_mock_location is_from_emulator  \n",
      "0              NaN              NaN  \n",
      "1              NaN              NaN  \n",
      "2              NaN              NaN  \n",
      "3              NaN              NaN  \n",
      "4              NaN              NaN  \n",
      "\n",
      "[5 rows x 36 columns]\n"
     ]
    }
   ],
   "source": [
    "user_tracking_df = pd.read_parquet('user_tracking.parquet')\n",
    "print(user_tracking_df.head())"
   ]
  },
  {
   "cell_type": "code",
   "execution_count": 10,
   "metadata": {
    "colab": {
     "base_uri": "https://localhost:8080/",
     "height": 520
    },
    "id": "iFlOqamLqv7Q",
    "outputId": "c67df91a-de81-41ee-f461-8121d4085955"
   },
   "outputs": [
    {
     "ename": "DatabaseError",
     "evalue": "ignored",
     "output_type": "error",
     "traceback": [
      "\u001b[0;31m---------------------------------------------------------------------------\u001b[0m",
      "\u001b[0;31mMySQLInterfaceError\u001b[0m                       Traceback (most recent call last)",
      "\u001b[0;32m/usr/local/lib/python3.9/dist-packages/mysql/connector/connection_cext.py\u001b[0m in \u001b[0;36m_open_connection\u001b[0;34m(self)\u001b[0m\n\u001b[1;32m    287\u001b[0m         \u001b[0;32mtry\u001b[0m\u001b[0;34m:\u001b[0m\u001b[0;34m\u001b[0m\u001b[0;34m\u001b[0m\u001b[0m\n\u001b[0;32m--> 288\u001b[0;31m             \u001b[0mself\u001b[0m\u001b[0;34m.\u001b[0m\u001b[0m_cmysql\u001b[0m\u001b[0;34m.\u001b[0m\u001b[0mconnect\u001b[0m\u001b[0;34m(\u001b[0m\u001b[0;34m**\u001b[0m\u001b[0mcnx_kwargs\u001b[0m\u001b[0;34m)\u001b[0m\u001b[0;34m\u001b[0m\u001b[0;34m\u001b[0m\u001b[0m\n\u001b[0m\u001b[1;32m    289\u001b[0m             \u001b[0mself\u001b[0m\u001b[0;34m.\u001b[0m\u001b[0m_cmysql\u001b[0m\u001b[0;34m.\u001b[0m\u001b[0mconverter_str_fallback\u001b[0m \u001b[0;34m=\u001b[0m \u001b[0mself\u001b[0m\u001b[0;34m.\u001b[0m\u001b[0m_converter_str_fallback\u001b[0m\u001b[0;34m\u001b[0m\u001b[0;34m\u001b[0m\u001b[0m\n",
      "\u001b[0;31mMySQLInterfaceError\u001b[0m: Can't connect to MySQL server on 'localhost:3306' (99)",
      "\nThe above exception was the direct cause of the following exception:\n",
      "\u001b[0;31mDatabaseError\u001b[0m                             Traceback (most recent call last)",
      "\u001b[0;32m<ipython-input-10-25e96bf41374>\u001b[0m in \u001b[0;36m<module>\u001b[0;34m\u001b[0m\n\u001b[1;32m     12\u001b[0m \u001b[0;34m\u001b[0m\u001b[0m\n\u001b[1;32m     13\u001b[0m \u001b[0;31m# Conectar ao banco de dados e executar a consulta\u001b[0m\u001b[0;34m\u001b[0m\u001b[0;34m\u001b[0m\u001b[0m\n\u001b[0;32m---> 14\u001b[0;31m \u001b[0mconn\u001b[0m \u001b[0;34m=\u001b[0m \u001b[0mmysql\u001b[0m\u001b[0;34m.\u001b[0m\u001b[0mconnector\u001b[0m\u001b[0;34m.\u001b[0m\u001b[0mconnect\u001b[0m\u001b[0;34m(\u001b[0m\u001b[0;34m**\u001b[0m\u001b[0mdb_config\u001b[0m\u001b[0;34m)\u001b[0m\u001b[0;34m\u001b[0m\u001b[0;34m\u001b[0m\u001b[0m\n\u001b[0m\u001b[1;32m     15\u001b[0m \u001b[0mcursor\u001b[0m \u001b[0;34m=\u001b[0m \u001b[0mconn\u001b[0m\u001b[0;34m.\u001b[0m\u001b[0mcursor\u001b[0m\u001b[0;34m(\u001b[0m\u001b[0;34m)\u001b[0m\u001b[0;34m\u001b[0m\u001b[0;34m\u001b[0m\u001b[0m\n\u001b[1;32m     16\u001b[0m \u001b[0;34m\u001b[0m\u001b[0m\n",
      "\u001b[0;32m/usr/local/lib/python3.9/dist-packages/mysql/connector/pooling.py\u001b[0m in \u001b[0;36mconnect\u001b[0;34m(*args, **kwargs)\u001b[0m\n\u001b[1;32m    291\u001b[0m \u001b[0;34m\u001b[0m\u001b[0m\n\u001b[1;32m    292\u001b[0m     \u001b[0;32mif\u001b[0m \u001b[0mCMySQLConnection\u001b[0m \u001b[0;32mand\u001b[0m \u001b[0;32mnot\u001b[0m \u001b[0muse_pure\u001b[0m\u001b[0;34m:\u001b[0m\u001b[0;34m\u001b[0m\u001b[0;34m\u001b[0m\u001b[0m\n\u001b[0;32m--> 293\u001b[0;31m         \u001b[0;32mreturn\u001b[0m \u001b[0mCMySQLConnection\u001b[0m\u001b[0;34m(\u001b[0m\u001b[0;34m*\u001b[0m\u001b[0margs\u001b[0m\u001b[0;34m,\u001b[0m \u001b[0;34m**\u001b[0m\u001b[0mkwargs\u001b[0m\u001b[0;34m)\u001b[0m\u001b[0;34m\u001b[0m\u001b[0;34m\u001b[0m\u001b[0m\n\u001b[0m\u001b[1;32m    294\u001b[0m     \u001b[0;32mreturn\u001b[0m \u001b[0mMySQLConnection\u001b[0m\u001b[0;34m(\u001b[0m\u001b[0;34m*\u001b[0m\u001b[0margs\u001b[0m\u001b[0;34m,\u001b[0m \u001b[0;34m**\u001b[0m\u001b[0mkwargs\u001b[0m\u001b[0;34m)\u001b[0m\u001b[0;34m\u001b[0m\u001b[0;34m\u001b[0m\u001b[0m\n\u001b[1;32m    295\u001b[0m \u001b[0;34m\u001b[0m\u001b[0m\n",
      "\u001b[0;32m/usr/local/lib/python3.9/dist-packages/mysql/connector/connection_cext.py\u001b[0m in \u001b[0;36m__init__\u001b[0;34m(self, **kwargs)\u001b[0m\n\u001b[1;32m    116\u001b[0m \u001b[0;34m\u001b[0m\u001b[0m\n\u001b[1;32m    117\u001b[0m         \u001b[0;32mif\u001b[0m \u001b[0mkwargs\u001b[0m\u001b[0;34m:\u001b[0m\u001b[0;34m\u001b[0m\u001b[0;34m\u001b[0m\u001b[0m\n\u001b[0;32m--> 118\u001b[0;31m             \u001b[0mself\u001b[0m\u001b[0;34m.\u001b[0m\u001b[0mconnect\u001b[0m\u001b[0;34m(\u001b[0m\u001b[0;34m**\u001b[0m\u001b[0mkwargs\u001b[0m\u001b[0;34m)\u001b[0m\u001b[0;34m\u001b[0m\u001b[0;34m\u001b[0m\u001b[0m\n\u001b[0m\u001b[1;32m    119\u001b[0m \u001b[0;34m\u001b[0m\u001b[0m\n\u001b[1;32m    120\u001b[0m     \u001b[0;32mdef\u001b[0m \u001b[0m_add_default_conn_attrs\u001b[0m\u001b[0;34m(\u001b[0m\u001b[0mself\u001b[0m\u001b[0;34m)\u001b[0m \u001b[0;34m->\u001b[0m \u001b[0;32mNone\u001b[0m\u001b[0;34m:\u001b[0m\u001b[0;34m\u001b[0m\u001b[0;34m\u001b[0m\u001b[0m\n",
      "\u001b[0;32m/usr/local/lib/python3.9/dist-packages/mysql/connector/abstracts.py\u001b[0m in \u001b[0;36mconnect\u001b[0;34m(self, **kwargs)\u001b[0m\n\u001b[1;32m   1176\u001b[0m \u001b[0;34m\u001b[0m\u001b[0m\n\u001b[1;32m   1177\u001b[0m         \u001b[0mself\u001b[0m\u001b[0;34m.\u001b[0m\u001b[0mdisconnect\u001b[0m\u001b[0;34m(\u001b[0m\u001b[0;34m)\u001b[0m\u001b[0;34m\u001b[0m\u001b[0;34m\u001b[0m\u001b[0m\n\u001b[0;32m-> 1178\u001b[0;31m         \u001b[0mself\u001b[0m\u001b[0;34m.\u001b[0m\u001b[0m_open_connection\u001b[0m\u001b[0;34m(\u001b[0m\u001b[0;34m)\u001b[0m\u001b[0;34m\u001b[0m\u001b[0;34m\u001b[0m\u001b[0m\n\u001b[0m\u001b[1;32m   1179\u001b[0m         \u001b[0;31m# Server does not allow to run any other statement different from ALTER\u001b[0m\u001b[0;34m\u001b[0m\u001b[0;34m\u001b[0m\u001b[0m\n\u001b[1;32m   1180\u001b[0m         \u001b[0;31m# when user's password has been expired.\u001b[0m\u001b[0;34m\u001b[0m\u001b[0;34m\u001b[0m\u001b[0m\n",
      "\u001b[0;32m/usr/local/lib/python3.9/dist-packages/mysql/connector/connection_cext.py\u001b[0m in \u001b[0;36m_open_connection\u001b[0;34m(self)\u001b[0m\n\u001b[1;32m    291\u001b[0m                 \u001b[0mself\u001b[0m\u001b[0;34m.\u001b[0m\u001b[0mconverter\u001b[0m\u001b[0;34m.\u001b[0m\u001b[0mstr_fallback\u001b[0m \u001b[0;34m=\u001b[0m \u001b[0mself\u001b[0m\u001b[0;34m.\u001b[0m\u001b[0m_converter_str_fallback\u001b[0m\u001b[0;34m\u001b[0m\u001b[0;34m\u001b[0m\u001b[0m\n\u001b[1;32m    292\u001b[0m         \u001b[0;32mexcept\u001b[0m \u001b[0mMySQLInterfaceError\u001b[0m \u001b[0;32mas\u001b[0m \u001b[0merr\u001b[0m\u001b[0;34m:\u001b[0m\u001b[0;34m\u001b[0m\u001b[0;34m\u001b[0m\u001b[0m\n\u001b[0;32m--> 293\u001b[0;31m             raise get_mysql_exception(\n\u001b[0m\u001b[1;32m    294\u001b[0m                 \u001b[0mmsg\u001b[0m\u001b[0;34m=\u001b[0m\u001b[0merr\u001b[0m\u001b[0;34m.\u001b[0m\u001b[0mmsg\u001b[0m\u001b[0;34m,\u001b[0m \u001b[0merrno\u001b[0m\u001b[0;34m=\u001b[0m\u001b[0merr\u001b[0m\u001b[0;34m.\u001b[0m\u001b[0merrno\u001b[0m\u001b[0;34m,\u001b[0m \u001b[0msqlstate\u001b[0m\u001b[0;34m=\u001b[0m\u001b[0merr\u001b[0m\u001b[0;34m.\u001b[0m\u001b[0msqlstate\u001b[0m\u001b[0;34m\u001b[0m\u001b[0;34m\u001b[0m\u001b[0m\n\u001b[1;32m    295\u001b[0m             ) from err\n",
      "\u001b[0;31mDatabaseError\u001b[0m: 2003 (HY000): Can't connect to MySQL server on 'localhost:3306' (99)"
     ]
    }
   ],
   "source": [
    "# Crie a base de dados e execute o script SQL cliente_cidade.sql no MySQL antes de prosseguir\n",
    "\n",
    "# Configuração da conexão com o banco de dados\n",
    "db_config = {\n",
    "    'user': 'root',\n",
    "    'password': '',\n",
    "    'host': 'localhost',\n",
    "    'database': 'clientcity'\n",
    "}\n",
    "\n",
    "# Conectar ao banco de dados e executar a consulta\n",
    "conn = mysql.connector.connect(**db_config)\n",
    "cursor = conn.cursor()\n",
    "\n",
    "query = \"SELECT * FROM cliente_cidade\"\n",
    "cursor.execute(query)\n",
    "\n",
    "# Ler os resultados da consulta\n",
    "result = cursor.fetchall()\n",
    "column_names = [column[0] for column in cursor.description]\n",
    "client_city_df = pd.DataFrame(result, columns=column_names)\n",
    "\n",
    "print(client_city_df.head())\n",
    "\n",
    "# Fechar a conexão\n",
    "cursor.close()\n",
    "conn.close()\n"
   ]
  },
  {
   "cell_type": "code",
   "execution_count": 11,
   "metadata": {
    "colab": {
     "base_uri": "https://localhost:8080/"
    },
    "id": "laKfzf_SqwGQ",
    "outputId": "f102dbe9-380d-47db-dca0-43e75380502e"
   },
   "outputs": [
    {
     "name": "stdout",
     "output_type": "stream",
     "text": [
      "['Abadia dos Dourados', 'Abaeté', 'Abre Campo', 'Acaiaca', 'Açucena', 'Água Boa', 'Água Comprida', 'Aguanil', 'Águas Formosas', 'Águas Vermelhas', 'Aimorés', 'Aiuruoca', 'Alagoa', 'Albertina', 'Além Paraíba', 'Alfenas', 'Alfredo Vasconcelos', 'Almenara', 'Alpercata', 'Alpinópolis', 'Alterosa', 'Alto Caparaó', 'Alto Rio Doce', 'Alvarenga', 'Alvinópolis', 'Alvorada de Minas', 'Amparo do Serra', 'Andradas', 'Cachoeira de Pajeú', 'Andrelândia', 'Angelândia', 'Antônio Carlos', 'Antônio Dias', 'Antônio Prado de Minas', 'Araçaí', 'Aracitaba', 'Araçuaí', 'Araguari', 'Arantina', 'Araponga', 'Araporã', 'Arapuá', 'Araújos', 'Araxá', 'Arceburgo', 'Arcos', 'Areado', 'Argirita', 'Aricanduva', 'Arinos', 'Astolfo Dutra', 'Ataléia', 'Augusto de Lima', 'Baependi', 'Baldim', 'Bambuí', 'Bandeira', 'Bandeira do Sul', 'Barão de Cocais', 'Barão de Monte Alto', 'Barbacena', 'Barra Longa', 'Barroso', 'Bela Vista de Minas', 'Belmiro Braga', 'Belo Horizonte', 'Belo Oriente', 'Belo Vale', 'Berilo', 'Bertópolis', 'Berizal', 'Betim', 'Bias Fortes', 'Bicas', 'Biquinhas', 'Boa Esperança', 'Bocaina de Minas', 'Bocaiúva', 'Bom Despacho', 'Bom Jardim de Minas', 'Bom Jesus da Penha', 'Bom Jesus do Amparo', 'Bom Jesus do Galho', 'Bom Repouso', 'Bom Sucesso', 'Bonfim', 'Bonfinópolis de Minas', 'Bonito de Minas', 'Borda da Mata', 'Botelhos', 'Botumirim', 'Brasilândia de Minas', 'Brasília de Minas', 'Brás Pires', 'Braúnas', 'Brazópolis', 'Brumadinho', 'Bueno Brandão', 'Buenópolis', 'Bugre', 'Buritis', 'Buritizeiro', 'Cabeceira Grande', 'Cabo Verde', 'Cachoeira da Prata', 'Cachoeira de Minas', 'Cachoeira Dourada', 'Caetanópolis', 'Caeté', 'Caiana', 'Cajuri', 'Caldas', 'Camacho', 'Camanducaia', 'Cambuí', 'Cambuquira', 'Campanário', 'Campanha', 'Campestre', 'Campina Verde', 'Campo Azul', 'Campo Belo', 'Campo do Meio', 'Campo Florido', 'Campos Altos', 'Campos Gerais', 'Canaã', 'Canápolis', 'Cana Verde', 'Candeias', 'Cantagalo', 'Caparaó', 'Capela Nova', 'Capelinha', 'Capetinga', 'Capim Branco', 'Capinópolis', 'Capitão Andrade', 'Capitão Enéas', 'Capitólio', 'Caputira', 'Caraí', 'Caranaíba', 'Carandaí', 'Carangola', 'Caratinga', 'Carbonita', 'Careaçu', 'Carlos Chagas', 'Carmésia', 'Carmo da Cachoeira', 'Carmo da Mata', 'Carmo de Minas', 'Carmo do Cajuru', 'Carmo do Paranaíba', 'Carmo do Rio Claro', 'Carmópolis de Minas', 'Carneirinho', 'Carrancas', 'Carvalhópolis', 'Carvalhos', 'Casa Grande', 'Cascalho Rico', 'Cássia', 'Conceição da Barra de Minas', 'Cataguases', 'Catas Altas', 'Catas Altas da Noruega', 'Catuji', 'Catuti', 'Caxambu', 'Cedro do Abaeté', 'Central de Minas', 'Centralina', 'Chácara', 'Chalé', 'Chapada do Norte', 'Chapada Gaúcha', 'Chiador', 'Cipotânea', 'Claraval', 'Claro dos Poções', 'Cláudio', 'Coimbra', 'Coluna', 'Comendador Gomes', 'Comercinho', 'Conceição da Aparecida', 'Conceição das Pedras', 'Conceição das Alagoas', 'Conceição de Ipanema', 'Conceição do Mato Dentro', 'Conceição do Pará', 'Conceição do Rio Verde', 'Conceição dos Ouros', 'Cônego Marinho', 'Confins', 'Congonhal', 'Congonhas', 'Congonhas do Norte', 'Conquista', 'Conselheiro Lafaiete', 'Conselheiro Pena', 'Consolação', 'Contagem', 'Coqueiral', 'Coração de Jesus', 'Cordisburgo', 'Cordislândia', 'Corinto', 'Coroaci', 'Coromandel', 'Coronel Fabriciano', 'Coronel Murta', 'Coronel Pacheco', 'Coronel Xavier Chaves', 'Córrego Danta', 'Córrego do Bom Jesus', 'Córrego Fundo', 'Córrego Novo', 'Couto de Magalhães de Minas', 'Crisólita', 'Cristais', 'Cristália', 'Cristiano Otoni', 'Cristina', 'Crucilândia', 'Cruzeiro da Fortaleza', 'Cruzília', 'Cuparaque', 'Curral de Dentro', 'Curvelo', 'Datas', 'Delfim Moreira', 'Delfinópolis', 'Delta', 'Descoberto', 'Desterro de Entre Rios', 'Desterro do Melo', 'Diamantina', 'Diogo de Vasconcelos', 'Dionísio', 'Divinésia', 'Divino', 'Divino das Laranjeiras', 'Divinolândia de Minas', 'Divinópolis', 'Divisa Alegre', 'Divisa Nova', 'Divisópolis', 'Dom Bosco', 'Dom Cavati', 'Dom Joaquim', 'Dom Silvério', 'Dom Viçoso', 'Dona Euzébia', 'Dores de Campos', 'Dores de Guanhães', 'Dores do Indaiá', 'Dores do Turvo', 'Doresópolis', 'Douradoquara', 'Durandé', 'Elói Mendes', 'Engenheiro Caldas', 'Engenheiro Navarro', 'Entre Folhas', 'Entre Rios de Minas', 'Ervália', 'Esmeraldas', 'Espera Feliz', 'Espinosa', 'Espírito Santo do Dourado', 'Estiva', 'Estrela Dalva', 'Estrela do Indaiá', 'Estrela do Sul', 'Eugenópolis', 'Ewbank da Câmara', 'Extrema', 'Fama', 'Faria Lemos', 'Felício dos Santos', 'São Gonçalo do Rio Preto', 'Felisburgo', 'Felixlândia', 'Fernandes Tourinho', 'Ferros', 'Fervedouro', 'Florestal', 'Formiga', 'Formoso', 'Fortaleza de Minas', 'Fortuna de Minas', 'Francisco Badaró', 'Francisco Dumont', 'Francisco Sá', 'Franciscópolis', 'Frei Gaspar', 'Frei Inocêncio', 'Frei Lagonegro', 'Fronteira', 'Fronteira dos Vales', 'Fruta de Leite', 'Frutal', 'Funilândia', 'Galiléia', 'Gameleiras', 'Glaucilândia', 'Goiabeira', 'Goianá', 'Gonçalves', 'Gonzaga', 'Gouveia', 'Governador Valadares', 'Grão Mogol', 'Grupiara', 'Guanhães', 'Guapé', 'Guaraciaba', 'Guaraciama', 'Guaranésia', 'Guarani', 'Guarará', 'Guarda-Mor', 'Guaxupé', 'Guidoval', 'Guimarânia', 'Guiricema', 'Gurinhatã', 'Heliodora', 'Iapu', 'Ibertioga', 'Ibiá', 'Ibiaí', 'Ibiracatu', 'Ibiraci', 'Ibirité', 'Ibitiúra de Minas', 'Ibituruna', 'Icaraí de Minas', 'Igarapé', 'Igaratinga', 'Iguatama', 'Ijaci', 'Ilicínea', 'Imbé de Minas', 'Inconfidentes', 'Indaiabira', 'Indianópolis', 'Ingaí', 'Inhapim', 'Inhaúma', 'Inimutaba', 'Ipaba', 'Ipanema', 'Ipatinga', 'Ipiaçu', 'Ipuiúna', 'Iraí de Minas', 'Itabira', 'Itabirinha', 'Itabirito', 'Itacambira', 'Itacarambi', 'Itaguara', 'Itaipé', 'Itajubá', 'Itamarandiba', 'Itamarati de Minas', 'Itambacuri', 'Itambé do Mato Dentro', 'Itamogi', 'Itamonte', 'Itanhandu', 'Itanhomi', 'Itaobim', 'Itapagipe', 'Itapecerica', 'Itapeva', 'Itatiaiuçu', 'Itaú de Minas', 'Itaúna', 'Itaverava', 'Itinga', 'Itueta', 'Ituiutaba', 'Itumirim', 'Iturama', 'Itutinga', 'Jaboticatubas', 'Jacinto', 'Jacuí', 'Jacutinga', 'Jaguaraçu', 'Jaíba', 'Jampruca', 'Janaúba', 'Januária', 'Japaraíba', 'Japonvar', 'Jeceaba', 'Jenipapo de Minas', 'Jequeri', 'Jequitaí', 'Jequitibá', 'Jequitinhonha', 'Jesuânia', 'Joaíma', 'Joanésia', 'João Monlevade', 'João Pinheiro', 'Joaquim Felício', 'Jordânia', 'José Gonçalves de Minas', 'José Raydan', 'Josenópolis', 'Nova União', 'Juatuba', 'Juiz de Fora', 'Juramento', 'Juruaia', 'Juvenília', 'Ladainha', 'Lagamar', 'Lagoa da Prata', 'Lagoa dos Patos', 'Lagoa Dourada', 'Lagoa Formosa', 'Lagoa Grande', 'Lagoa Santa', 'Lajinha', 'Lambari', 'Lamim', 'Laranjal', 'Lassance', 'Lavras', 'Leandro Ferreira', 'Leme do Prado', 'Leopoldina', 'Liberdade', 'Lima Duarte', 'Limeira do Oeste', 'Lontra', 'Luisburgo', 'Luislândia', 'Luminárias', 'Luz', 'Machacalis', 'Machado', 'Madre de Deus de Minas', 'Malacacheta', 'Mamonas', 'Manga', 'Manhuaçu', 'Manhumirim', 'Mantena', 'Maravilhas', 'Mar de Espanha', 'Maria da Fé', 'Mariana', 'Marilac', 'Mário Campos', 'Maripá de Minas', 'Marliéria', 'Marmelópolis', 'Martinho Campos', 'Martins Soares', 'Mata Verde', 'Materlândia', 'Mateus Leme', 'Matias Barbosa', 'Matias Cardoso', 'Matipó', 'Mato Verde', 'Matozinhos', 'Matutina', 'Medeiros', 'Medina', 'Mendes Pimentel', 'Mercês', 'Mesquita', 'Minas Novas', 'Minduri', 'Mirabela', 'Miradouro', 'Miraí', 'Miravânia', 'Moeda', 'Moema', 'Monjolos', 'Monsenhor Paulo', 'Montalvânia', 'Monte Alegre de Minas', 'Monte Azul', 'Monte Belo', 'Monte Carmelo', 'Monte Formoso', 'Monte Santo de Minas', 'Montes Claros', 'Monte Sião', 'Montezuma', 'Morada Nova de Minas', 'Morro da Garça', 'Morro do Pilar', 'Munhoz', 'Muriaé', 'Mutum', 'Muzambinho', 'Nacip Raydan', 'Nanuque', 'Naque', 'Natalândia', 'Natércia', 'Nazareno', 'Nepomuceno', 'Ninheira', 'Nova Belém', 'Nova Era', 'Nova Lima', 'Nova Módica', 'Nova Ponte', 'Nova Porteirinha', 'Nova Resende', 'Nova Serrana', 'Novo Cruzeiro', 'Novo Oriente de Minas', 'Novorizonte', 'Olaria', \"Olhos-d'Água\", 'Olímpio Noronha', 'Oliveira', 'Oliveira Fortes', 'Onça de Pitangui', 'Oratórios', 'Orizânia', 'Ouro Branco', 'Ouro Fino', 'Ouro Preto', 'Ouro Verde de Minas', 'Padre Carvalho', 'Padre Paraíso', 'Paineiras', 'Pains', 'Pai Pedro', 'Paiva', 'Palma', 'Palmópolis', 'Papagaios', 'Paracatu', 'Pará de Minas', 'Paraguaçu', 'Paraisópolis', 'Paraopeba', 'Passabém', 'Passa Quatro', 'Passa Tempo', 'Passa Vinte', 'Passos', 'Patis', 'Patos de Minas', 'Patrocínio', 'Patrocínio do Muriaé', 'Paula Cândido', 'Paulistas', 'Pavão', 'Peçanha', 'Pedra Azul', 'Pedra Bonita', 'Pedra do Anta', 'Pedra do Indaiá', 'Pedra Dourada', 'Pedralva', 'Pedras de Maria da Cruz', 'Pedrinópolis', 'Pedro Leopoldo', 'Pedro Teixeira', 'Pequeri', 'Pequi', 'Perdigão', 'Perdizes', 'Perdões', 'Periquito', 'Pescador', 'Piau', 'Piedade de Caratinga', 'Piedade de Ponte Nova', 'Piedade do Rio Grande', 'Piedade dos Gerais', 'Pimenta', \"Pingo-d'Água\", 'Pintópolis', 'Piracema', 'Pirajuba', 'Piranga', 'Piranguçu', 'Piranguinho', 'Pirapetinga', 'Pirapora', 'Piraúba', 'Pitangui', 'Piumhi', 'Planura', 'Poço Fundo', 'Poços de Caldas', 'Pocrane', 'Pompéu', 'Ponte Nova', 'Ponto Chique', 'Ponto dos Volantes', 'Porteirinha', 'Porto Firme', 'Poté', 'Pouso Alegre', 'Pouso Alto', 'Prados', 'Prata', 'Pratápolis', 'Pratinha', 'Presidente Bernardes', 'Presidente Juscelino', 'Presidente Kubitschek', 'Presidente Olegário', 'Alto Jequitibá', 'Prudente de Morais', 'Quartel Geral', 'Queluzito', 'Raposos', 'Raul Soares', 'Recreio', 'Reduto', 'Resende Costa', 'Resplendor', 'Ressaquinha', 'Riachinho', 'Riacho dos Machados', 'Ribeirão das Neves', 'Ribeirão Vermelho', 'Rio Acima', 'Rio Casca', 'Rio Doce', 'Rio do Prado', 'Rio Espera', 'Rio Manso', 'Rio Novo', 'Rio Paranaíba', 'Rio Pardo de Minas', 'Rio Piracicaba', 'Rio Pomba', 'Rio Preto', 'Rio Vermelho', 'Ritápolis', 'Rochedo de Minas', 'Rodeiro', 'Romaria', 'Rosário da Limeira', 'Rubelita', 'Rubim', 'Sabará', 'Sabinópolis', 'Sacramento', 'Salinas', 'Salto da Divisa', 'Santa Bárbara', 'Santa Bárbara do Leste', 'Santa Bárbara do Monte Verde', 'Santa Bárbara do Tugúrio', 'Santa Cruz de Minas', 'Santa Cruz de Salinas', 'Santa Cruz do Escalvado', 'Santa Efigênia de Minas', 'Santa Fé de Minas', 'Santa Helena de Minas', 'Santa Juliana', 'Santa Luzia', 'Santa Margarida', 'Santa Maria de Itabira', 'Santa Maria do Salto', 'Santa Maria do Suaçuí', 'Santana da Vargem', 'Santana de Cataguases', 'Santana de Pirapama', 'Santana do Deserto', 'Santana do Garambéu', 'Santana do Jacaré', 'Santana do Manhuaçu', 'Santana do Paraíso', 'Santana do Riacho', 'Santana dos Montes', 'Santa Rita de Caldas', 'Santa Rita de Jacutinga', 'Santa Rita de Minas', 'Santa Rita de Ibitipoca', 'Santa Rita do Itueto', 'Santa Rita do Sapucaí', 'Santa Rosa da Serra', 'Santa Vitória', 'Santo Antônio do Amparo', 'Santo Antônio do Aventureiro', 'Santo Antônio do Grama', 'Santo Antônio do Itambé', 'Santo Antônio do Jacinto', 'Santo Antônio do Monte', 'Santo Antônio do Retiro', 'Santo Antônio do Rio Abaixo', 'Santo Hipólito', 'Santos Dumont', 'São Bento Abade', 'São Brás do Suaçuí', 'São Domingos das Dores', 'São Domingos do Prata', 'São Félix de Minas', 'São Francisco', 'São Francisco de Paula', 'São Francisco de Sales', 'São Francisco do Glória', 'São Geraldo', 'São Geraldo da Piedade', 'São Geraldo do Baixio', 'São Gonçalo do Abaeté', 'São Gonçalo do Pará', 'São Gonçalo do Rio Abaixo', 'São Gonçalo do Sapucaí', 'São Gotardo', 'São João Batista do Glória', 'São João da Lagoa', 'São João da Mata', 'São João da Ponte', 'São João das Missões', 'São João del Rei', 'São João do Manhuaçu', 'São João do Manteninha', 'São João do Oriente', 'São João do Pacuí', 'São João do Paraíso', 'São João Evangelista', 'São João Nepomuceno', 'São Joaquim de Bicas', 'São José da Barra', 'São José da Lapa', 'São José da Safira', 'São José da Varginha', 'São José do Alegre', 'São José do Divino', 'São José do Goiabal', 'São José do Jacuri', 'São José do Mantimento', 'São Lourenço', 'São Miguel do Anta', 'São Pedro da União', 'São Pedro dos Ferros', 'São Pedro do Suaçuí', 'São Romão', 'São Roque de Minas', 'São Sebastião da Bela Vista', 'São Sebastião da Vargem Alegre', 'São Sebastião do Anta', 'São Sebastião do Maranhão', 'São Sebastião do Oeste', 'São Sebastião do Paraíso', 'São Sebastião do Rio Preto', 'São Sebastião do Rio Verde', 'São Tiago', 'São Tomás de Aquino', 'São Tomé das Letras', 'São Vicente de Minas', 'Sapucaí-Mirim', 'Sardoá', 'Sarzedo', 'Setubinha', 'Sem-Peixe', 'Senador Amaral', 'Senador Cortes', 'Senador Firmino', 'Senador José Bento', 'Senador Modestino Gonçalves', 'Senhora de Oliveira', 'Senhora do Porto', 'Senhora dos Remédios', 'Sericita', 'Seritinga', 'Serra Azul de Minas', 'Serra da Saudade', 'Serra dos Aimorés', 'Serra do Salitre', 'Serrania', 'Serranópolis de Minas', 'Serranos', 'Serro', 'Sete Lagoas', 'Silveirânia', 'Silvianópolis', 'Simão Pereira', 'Simonésia', 'Sobrália', 'Soledade de Minas', 'Tabuleiro', 'Taiobeiras', 'Taparuba', 'Tapira', 'Tapiraí', 'Taquaraçu de Minas', 'Tarumirim', 'Teixeiras', 'Teófilo Otoni', 'Timóteo', 'Tiradentes', 'Tiros', 'Tocantins', 'Tocos do Moji', 'Toledo', 'Tombos', 'Três Corações', 'Três Marias', 'Três Pontas', 'Tumiritinga', 'Tupaciguara', 'Turmalina', 'Turvolândia', 'Ubá', 'Ubaí', 'Ubaporanga', 'Uberaba', 'Uberlândia', 'Umburatiba', 'Unaí', 'União de Minas', 'Uruana de Minas', 'Urucânia', 'Urucuia', 'Vargem Alegre', 'Vargem Bonita', 'Vargem Grande do Rio Pardo', 'Varginha', 'Varjão de Minas', 'Várzea da Palma', 'Varzelândia', 'Vazante', 'Verdelândia', 'Veredinha', 'Veríssimo', 'Vermelho Novo', 'Vespasiano', 'Viçosa', 'Vieiras', 'Mathias Lobato', 'Virgem da Lapa', 'Virgínia', 'Virginópolis', 'Virgolândia', 'Visconde do Rio Branco', 'Volta Grande', 'Wenceslau Braz']\n"
     ]
    }
   ],
   "source": [
    "url = \"https://servicodados.ibge.gov.br/api/v1/localidades/estados/31/municipios\"\n",
    "response = requests.get(url)\n",
    "\n",
    "if response.status_code == 200:\n",
    "    municipios_data = response.json()\n",
    "    municipios_nomes = [municipio['nome'] for municipio in municipios_data]\n",
    "    print(municipios_nomes)\n",
    "else:\n",
    "    print(f\"Erro ao acessar a API: {response.status_code}\")\n"
   ]
  }
 ],
 "metadata": {
  "colab": {
   "provenance": []
  },
  "kernelspec": {
   "display_name": "Python 3 (ipykernel)",
   "language": "python",
   "name": "python3"
  },
  "language_info": {
   "codemirror_mode": {
    "name": "ipython",
    "version": 3
   },
   "file_extension": ".py",
   "mimetype": "text/x-python",
   "name": "python",
   "nbconvert_exporter": "python",
   "pygments_lexer": "ipython3",
   "version": "3.10.9"
  }
 },
 "nbformat": 4,
 "nbformat_minor": 1
}
