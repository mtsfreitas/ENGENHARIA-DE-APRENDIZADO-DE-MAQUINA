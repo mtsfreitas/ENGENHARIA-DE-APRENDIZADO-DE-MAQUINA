{
 "cells": [
  {
   "cell_type": "code",
   "execution_count": 6,
   "id": "46765614",
   "metadata": {},
   "outputs": [
    {
     "name": "stdout",
     "output_type": "stream",
     "text": [
      "Requirement already satisfied: selenium in d:\\users\\martins\\anaconda3\\lib\\site-packages (4.8.3)\n",
      "Requirement already satisfied: trio-websocket~=0.9 in d:\\users\\martins\\anaconda3\\lib\\site-packages (from selenium) (0.10.2)\n",
      "Requirement already satisfied: certifi>=2021.10.8 in d:\\users\\martins\\anaconda3\\lib\\site-packages (from selenium) (2022.12.7)\n",
      "Requirement already satisfied: urllib3[socks]~=1.26 in d:\\users\\martins\\anaconda3\\lib\\site-packages (from selenium) (1.26.14)\n",
      "Requirement already satisfied: trio~=0.17 in d:\\users\\martins\\anaconda3\\lib\\site-packages (from selenium) (0.22.0)\n",
      "Requirement already satisfied: exceptiongroup>=1.0.0rc9 in d:\\users\\martins\\anaconda3\\lib\\site-packages (from trio~=0.17->selenium) (1.1.1)\n",
      "Requirement already satisfied: sortedcontainers in d:\\users\\martins\\anaconda3\\lib\\site-packages (from trio~=0.17->selenium) (2.4.0)\n",
      "Requirement already satisfied: idna in d:\\users\\martins\\anaconda3\\lib\\site-packages (from trio~=0.17->selenium) (3.4)\n",
      "Requirement already satisfied: attrs>=19.2.0 in d:\\users\\martins\\anaconda3\\lib\\site-packages (from trio~=0.17->selenium) (22.1.0)\n",
      "Requirement already satisfied: async-generator>=1.9 in d:\\users\\martins\\anaconda3\\lib\\site-packages (from trio~=0.17->selenium) (1.10)\n",
      "Requirement already satisfied: cffi>=1.14 in d:\\users\\martins\\anaconda3\\lib\\site-packages (from trio~=0.17->selenium) (1.15.1)\n",
      "Requirement already satisfied: outcome in d:\\users\\martins\\anaconda3\\lib\\site-packages (from trio~=0.17->selenium) (1.2.0)\n",
      "Requirement already satisfied: sniffio in d:\\users\\martins\\anaconda3\\lib\\site-packages (from trio~=0.17->selenium) (1.2.0)\n",
      "Requirement already satisfied: wsproto>=0.14 in d:\\users\\martins\\anaconda3\\lib\\site-packages (from trio-websocket~=0.9->selenium) (1.2.0)\n",
      "Requirement already satisfied: PySocks!=1.5.7,<2.0,>=1.5.6 in d:\\users\\martins\\anaconda3\\lib\\site-packages (from urllib3[socks]~=1.26->selenium) (1.7.1)\n",
      "Requirement already satisfied: pycparser in d:\\users\\martins\\anaconda3\\lib\\site-packages (from cffi>=1.14->trio~=0.17->selenium) (2.21)\n",
      "Requirement already satisfied: h11<1,>=0.9.0 in d:\\users\\martins\\anaconda3\\lib\\site-packages (from wsproto>=0.14->trio-websocket~=0.9->selenium) (0.14.0)\n",
      "Note: you may need to restart the kernel to use updated packages.\n"
     ]
    }
   ],
   "source": [
    "pip install selenium"
   ]
  },
  {
   "cell_type": "code",
   "execution_count": 10,
   "id": "acf47b8d",
   "metadata": {},
   "outputs": [
    {
     "name": "stdout",
     "output_type": "stream",
     "text": [
      "Nenhum PDF encontrado.\n"
     ]
    }
   ],
   "source": [
    "import os\n",
    "import time\n",
    "import requests\n",
    "from bs4 import BeautifulSoup\n",
    "from selenium import webdriver\n",
    "from selenium.webdriver.common.by import By\n",
    "from selenium.webdriver.common.keys import Keys\n",
    "\n",
    "# Insira suas credenciais aqui\n",
    "email = 'mmatheus22@hotmail.com'\n",
    "senha = '00160016@Passei'\n",
    "\n",
    "\n",
    "url_login = 'https://www.passeidireto.com/login'\n",
    "url_base = 'https://www.passeidireto.com'\n",
    "\n",
    "def download_pdf(url, save_path):\n",
    "    response = requests.get(url)\n",
    "    open(save_path, 'wb').write(response.content)\n",
    "\n",
    "def main():\n",
    "    # Inicializa o driver do Selenium (usando Chrome)\n",
    "    driver = webdriver.Chrome()\n",
    "\n",
    "    # Faz login no site\n",
    "    driver.get(url_login)\n",
    "    time.sleep(2)\n",
    "\n",
    "    email_input = driver.find_element(By.CSS_SELECTOR, 'input[name=\"email\"]')\n",
    "    senha_input = driver.find_element(By.CSS_SELECTOR, 'input[name=\"password\"]')\n",
    "\n",
    "    email_input.send_keys(email)\n",
    "    senha_input.send_keys(senha)\n",
    "    senha_input.send_keys(Keys.RETURN)\n",
    "    time.sleep(5)\n",
    "\n",
    "    # Navega para a página de busca (substitua 'exemplo' pela sua consulta de busca)\n",
    "    driver.get(f'https://www.passeidireto.com/arquivo/105314183/oguiadoestudante-10-10')\n",
    "    time.sleep(5)\n",
    "\n",
    "    # Rola a página para carregar mais resultados (ajuste o range conforme necessário)\n",
    "    for _ in range(5):\n",
    "        driver.execute_script(\"window.scrollTo(0, document.body.scrollHeight);\")\n",
    "        time.sleep(3)\n",
    "\n",
    "    # Analisa o conteúdo da página\n",
    "    soup = BeautifulSoup(driver.page_source, 'html.parser')\n",
    "    pdf_links = [a['href'] for a in soup.find_all('a', href=True) if a['href'].endswith('.pdf')]\n",
    "\n",
    "    if not os.path.exists('pdfs'):\n",
    "        os.makedirs('pdfs')\n",
    "\n",
    "    if not pdf_links:\n",
    "        print(\"Nenhum PDF encontrado.\")\n",
    "    else:\n",
    "        for pdf_link in pdf_links:\n",
    "            if not pdf_link.startswith('http'):\n",
    "                pdf_link = f'{url_base}/{pdf_link}'\n",
    "\n",
    "            file_name = pdf_link.split('/')[-1]\n",
    "            save_path = f'pdfs/{file_name}'\n",
    "            print(f'PDF encontrado: {file_name}')\n",
    "            print(f'Baixando {file_name}...')\n",
    "            download_pdf(pdf_link, save_path)\n",
    "            print(f'Download concluído: {file_name}')\n",
    "\n",
    "    driver.quit()\n",
    "\n",
    "if __name__ == '__main__':\n",
    "    main()\n",
    "\n"
   ]
  },
  {
   "cell_type": "code",
   "execution_count": null,
   "id": "44dd817d",
   "metadata": {},
   "outputs": [],
   "source": []
  },
  {
   "cell_type": "code",
   "execution_count": null,
   "id": "b1652d09",
   "metadata": {},
   "outputs": [],
   "source": []
  }
 ],
 "metadata": {
  "kernelspec": {
   "display_name": "Python 3 (ipykernel)",
   "language": "python",
   "name": "python3"
  },
  "language_info": {
   "codemirror_mode": {
    "name": "ipython",
    "version": 3
   },
   "file_extension": ".py",
   "mimetype": "text/x-python",
   "name": "python",
   "nbconvert_exporter": "python",
   "pygments_lexer": "ipython3",
   "version": "3.10.9"
  }
 },
 "nbformat": 4,
 "nbformat_minor": 5
}
