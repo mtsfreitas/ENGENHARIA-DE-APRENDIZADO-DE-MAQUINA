{
 "cells": [
  {
   "cell_type": "code",
   "execution_count": 6,
   "id": "de7b2d0e",
   "metadata": {},
   "outputs": [
    {
     "name": "stdout",
     "output_type": "stream",
     "text": [
      "Requirement already satisfied: discord.py in d:\\users\\martins\\anaconda3\\lib\\site-packages (2.2.2)\n",
      "Requirement already satisfied: pandas in d:\\users\\martins\\anaconda3\\lib\\site-packages (1.5.3)\n",
      "Requirement already satisfied: aiohttp<4,>=3.7.4 in d:\\users\\martins\\anaconda3\\lib\\site-packages (from discord.py) (3.8.4)\n",
      "Requirement already satisfied: python-dateutil>=2.8.1 in d:\\users\\martins\\anaconda3\\lib\\site-packages (from pandas) (2.8.2)\n",
      "Requirement already satisfied: pytz>=2020.1 in d:\\users\\martins\\anaconda3\\lib\\site-packages (from pandas) (2022.7)\n",
      "Requirement already satisfied: numpy>=1.21.0 in d:\\users\\martins\\anaconda3\\lib\\site-packages (from pandas) (1.23.5)\n",
      "Requirement already satisfied: charset-normalizer<4.0,>=2.0 in d:\\users\\martins\\anaconda3\\lib\\site-packages (from aiohttp<4,>=3.7.4->discord.py) (2.0.4)\n",
      "Requirement already satisfied: attrs>=17.3.0 in d:\\users\\martins\\anaconda3\\lib\\site-packages (from aiohttp<4,>=3.7.4->discord.py) (22.1.0)\n",
      "Requirement already satisfied: multidict<7.0,>=4.5 in d:\\users\\martins\\anaconda3\\lib\\site-packages (from aiohttp<4,>=3.7.4->discord.py) (6.0.4)\n",
      "Requirement already satisfied: frozenlist>=1.1.1 in d:\\users\\martins\\anaconda3\\lib\\site-packages (from aiohttp<4,>=3.7.4->discord.py) (1.3.3)\n",
      "Requirement already satisfied: yarl<2.0,>=1.0 in d:\\users\\martins\\anaconda3\\lib\\site-packages (from aiohttp<4,>=3.7.4->discord.py) (1.8.2)\n",
      "Requirement already satisfied: aiosignal>=1.1.2 in d:\\users\\martins\\anaconda3\\lib\\site-packages (from aiohttp<4,>=3.7.4->discord.py) (1.3.1)\n",
      "Requirement already satisfied: async-timeout<5.0,>=4.0.0a3 in d:\\users\\martins\\anaconda3\\lib\\site-packages (from aiohttp<4,>=3.7.4->discord.py) (4.0.2)\n",
      "Requirement already satisfied: six>=1.5 in d:\\users\\martins\\anaconda3\\lib\\site-packages (from python-dateutil>=2.8.1->pandas) (1.16.0)\n",
      "Requirement already satisfied: idna>=2.0 in d:\\users\\martins\\anaconda3\\lib\\site-packages (from yarl<2.0,>=1.0->aiohttp<4,>=3.7.4->discord.py) (3.4)\n",
      "Note: you may need to restart the kernel to use updated packages.\n"
     ]
    }
   ],
   "source": [
    "pip install discord.py pandas"
   ]
  },
  {
   "cell_type": "code",
   "execution_count": null,
   "id": "971ef10c",
   "metadata": {},
   "outputs": [],
   "source": [
    "import discord\n",
    "from discord.ext import commands\n",
    "import pandas as pd\n",
    "import nest_asyncio\n",
    "\n",
    "TOKEN = \"xxxx\"\n",
    "\n",
    "CHANNEL_ID = 1073041470669459507  # Substitua pelo ID do canal desejado\n",
    "\n",
    "# Defina os intents necessários\n",
    "intents = discord.Intents.default()\n",
    "intents.typing = False\n",
    "intents.presences = True  # Modifique esta linha, se necessário\n",
    "intents.members = True  # Adicione esta linha\n",
    "\n",
    "\n",
    "bot = commands.Bot(command_prefix=\"!\", intents=intents)\n",
    "\n",
    "@bot.event\n",
    "async def on_ready():\n",
    "    print(f\"Bot logado como {bot.user.name}\")\n",
    "\n",
    "async def send_message_to_channel(channel_id, message):\n",
    "    channel = bot.get_channel(channel_id)\n",
    "    if channel:\n",
    "        await channel.send(message)\n",
    "    else:\n",
    "        print(f\"Não foi possível encontrar o canal com ID {channel_id}\")\n",
    "\n",
    "@bot.command()\n",
    "async def read_csv(ctx, file_name: str):\n",
    "    try:\n",
    "        df = pd.read_csv(file_name)\n",
    "        message = f\"Aqui estão as 5 primeiras linhas do arquivo {file_name}:\\n```\\n{df.head().to_string()}\\n```\"\n",
    "        await send_message_to_channel(CHANNEL_ID, message)\n",
    "    except Exception as e:\n",
    "        await ctx.send(f\"Erro ao ler o arquivo .csv: {e}\")\n",
    "        \n",
    "@bot.command()\n",
    "async def hello(ctx):\n",
    "    await ctx.send(\"Olá! Eu sou o seu bot.\")\n",
    "\n",
    "\n",
    "# Permitir que o bot seja executado em um ambiente com um loop de eventos em execução\n",
    "nest_asyncio.apply()\n",
    "\n",
    "# Execute o bot usando o loop de eventos existente\n",
    "loop = asyncio.get_event_loop()\n",
    "\n",
    "try:\n",
    "    loop.run_until_complete(bot.start(TOKEN))\n",
    "except KeyboardInterrupt:\n",
    "    loop.run_until_complete(bot.close())\n",
    "finally:\n",
    "    loop.close()"
   ]
  },
  {
   "cell_type": "code",
   "execution_count": null,
   "id": "81144a25",
   "metadata": {},
   "outputs": [],
   "source": []
  }
 ],
 "metadata": {
  "kernelspec": {
   "display_name": "Python 3 (ipykernel)",
   "language": "python",
   "name": "python3"
  },
  "language_info": {
   "codemirror_mode": {
    "name": "ipython",
    "version": 3
   },
   "file_extension": ".py",
   "mimetype": "text/x-python",
   "name": "python",
   "nbconvert_exporter": "python",
   "pygments_lexer": "ipython3",
   "version": "3.10.9"
  }
 },
 "nbformat": 4,
 "nbformat_minor": 5
}
